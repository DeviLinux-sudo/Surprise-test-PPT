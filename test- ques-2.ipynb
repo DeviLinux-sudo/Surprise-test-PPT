{
 "cells": [
  {
   "cell_type": "code",
   "execution_count": 1,
   "id": "1cac1ac5",
   "metadata": {},
   "outputs": [
    {
     "name": "stdout",
     "output_type": "stream",
     "text": [
      "0\n",
      "2\n",
      "-1\n"
     ]
    }
   ],
   "source": [
    "def firstUniqChar(s):\n",
    "    char_count = [0] * 26 \n",
    "    \n",
    "   \n",
    "    for char in s:\n",
    "        char_count[ord(char) - ord('a')] += 1\n",
    "    \n",
    "    \n",
    "    for i, char in enumerate(s):\n",
    "        if char_count[ord(char) - ord('a')] == 1:\n",
    "            return i\n",
    "    \n",
    "    return -1  \n",
    "\n",
    "\n",
    "s = \"leetcode\"\n",
    "print(firstUniqChar(s))  \n",
    "\n",
    "s = \"loveleetcode\"\n",
    "print(firstUniqChar(s)) \n",
    "\n",
    "s = \"aabb\"\n",
    "print(firstUniqChar(s))  "
   ]
  },
  {
   "cell_type": "code",
   "execution_count": null,
   "id": "d650083b",
   "metadata": {},
   "outputs": [],
   "source": []
  }
 ],
 "metadata": {
  "kernelspec": {
   "display_name": "Python 3 (ipykernel)",
   "language": "python",
   "name": "python3"
  },
  "language_info": {
   "codemirror_mode": {
    "name": "ipython",
    "version": 3
   },
   "file_extension": ".py",
   "mimetype": "text/x-python",
   "name": "python",
   "nbconvert_exporter": "python",
   "pygments_lexer": "ipython3",
   "version": "3.10.9"
  }
 },
 "nbformat": 4,
 "nbformat_minor": 5
}
